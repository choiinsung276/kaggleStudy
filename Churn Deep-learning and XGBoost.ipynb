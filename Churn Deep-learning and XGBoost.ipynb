{
 "cells": [
  {
   "cell_type": "markdown",
   "metadata": {},
   "source": [
    "# https://talkingaboutme.tistory.com/entry/DL-%ED%95%B4%EB%B3%B4%EB%A9%B4%EC%84%9C-%EB%B0%B0%EC%9A%B0%EB%8A%94-%EB%94%A5%EB%9F%AC%EB%8B%9D-ANN-%EA%B5%AC%ED%98%84-1?category=538748\n",
    "# 링크"
   ]
  },
  {
   "cell_type": "code",
   "execution_count": 1,
   "metadata": {},
   "outputs": [],
   "source": [
    "import numpy as np \n",
    "import pandas as pd\n",
    "import seaborn as sns\n",
    "import matplotlib.pyplot as plt"
   ]
  },
  {
   "cell_type": "code",
   "execution_count": 2,
   "metadata": {},
   "outputs": [
    {
     "data": {
      "text/html": [
       "<div>\n",
       "<style scoped>\n",
       "    .dataframe tbody tr th:only-of-type {\n",
       "        vertical-align: middle;\n",
       "    }\n",
       "\n",
       "    .dataframe tbody tr th {\n",
       "        vertical-align: top;\n",
       "    }\n",
       "\n",
       "    .dataframe thead th {\n",
       "        text-align: right;\n",
       "    }\n",
       "</style>\n",
       "<table border=\"1\" class=\"dataframe\">\n",
       "  <thead>\n",
       "    <tr style=\"text-align: right;\">\n",
       "      <th></th>\n",
       "      <th>RowNumber</th>\n",
       "      <th>CustomerId</th>\n",
       "      <th>Surname</th>\n",
       "      <th>CreditScore</th>\n",
       "      <th>Geography</th>\n",
       "      <th>Gender</th>\n",
       "      <th>Age</th>\n",
       "      <th>Tenure</th>\n",
       "      <th>Balance</th>\n",
       "      <th>NumOfProducts</th>\n",
       "      <th>HasCrCard</th>\n",
       "      <th>IsActiveMember</th>\n",
       "      <th>EstimatedSalary</th>\n",
       "      <th>Exited</th>\n",
       "    </tr>\n",
       "  </thead>\n",
       "  <tbody>\n",
       "    <tr>\n",
       "      <th>0</th>\n",
       "      <td>1</td>\n",
       "      <td>15634602</td>\n",
       "      <td>Hargrave</td>\n",
       "      <td>619</td>\n",
       "      <td>France</td>\n",
       "      <td>Female</td>\n",
       "      <td>42</td>\n",
       "      <td>2</td>\n",
       "      <td>0.00</td>\n",
       "      <td>1</td>\n",
       "      <td>1</td>\n",
       "      <td>1</td>\n",
       "      <td>101348.88</td>\n",
       "      <td>1</td>\n",
       "    </tr>\n",
       "    <tr>\n",
       "      <th>1</th>\n",
       "      <td>2</td>\n",
       "      <td>15647311</td>\n",
       "      <td>Hill</td>\n",
       "      <td>608</td>\n",
       "      <td>Spain</td>\n",
       "      <td>Female</td>\n",
       "      <td>41</td>\n",
       "      <td>1</td>\n",
       "      <td>83807.86</td>\n",
       "      <td>1</td>\n",
       "      <td>0</td>\n",
       "      <td>1</td>\n",
       "      <td>112542.58</td>\n",
       "      <td>0</td>\n",
       "    </tr>\n",
       "    <tr>\n",
       "      <th>2</th>\n",
       "      <td>3</td>\n",
       "      <td>15619304</td>\n",
       "      <td>Onio</td>\n",
       "      <td>502</td>\n",
       "      <td>France</td>\n",
       "      <td>Female</td>\n",
       "      <td>42</td>\n",
       "      <td>8</td>\n",
       "      <td>159660.80</td>\n",
       "      <td>3</td>\n",
       "      <td>1</td>\n",
       "      <td>0</td>\n",
       "      <td>113931.57</td>\n",
       "      <td>1</td>\n",
       "    </tr>\n",
       "    <tr>\n",
       "      <th>3</th>\n",
       "      <td>4</td>\n",
       "      <td>15701354</td>\n",
       "      <td>Boni</td>\n",
       "      <td>699</td>\n",
       "      <td>France</td>\n",
       "      <td>Female</td>\n",
       "      <td>39</td>\n",
       "      <td>1</td>\n",
       "      <td>0.00</td>\n",
       "      <td>2</td>\n",
       "      <td>0</td>\n",
       "      <td>0</td>\n",
       "      <td>93826.63</td>\n",
       "      <td>0</td>\n",
       "    </tr>\n",
       "    <tr>\n",
       "      <th>4</th>\n",
       "      <td>5</td>\n",
       "      <td>15737888</td>\n",
       "      <td>Mitchell</td>\n",
       "      <td>850</td>\n",
       "      <td>Spain</td>\n",
       "      <td>Female</td>\n",
       "      <td>43</td>\n",
       "      <td>2</td>\n",
       "      <td>125510.82</td>\n",
       "      <td>1</td>\n",
       "      <td>1</td>\n",
       "      <td>1</td>\n",
       "      <td>79084.10</td>\n",
       "      <td>0</td>\n",
       "    </tr>\n",
       "  </tbody>\n",
       "</table>\n",
       "</div>"
      ],
      "text/plain": [
       "   RowNumber  CustomerId   Surname  CreditScore Geography  Gender  Age  \\\n",
       "0          1    15634602  Hargrave          619    France  Female   42   \n",
       "1          2    15647311      Hill          608     Spain  Female   41   \n",
       "2          3    15619304      Onio          502    France  Female   42   \n",
       "3          4    15701354      Boni          699    France  Female   39   \n",
       "4          5    15737888  Mitchell          850     Spain  Female   43   \n",
       "\n",
       "   Tenure    Balance  NumOfProducts  HasCrCard  IsActiveMember  \\\n",
       "0       2       0.00              1          1               1   \n",
       "1       1   83807.86              1          0               1   \n",
       "2       8  159660.80              3          1               0   \n",
       "3       1       0.00              2          0               0   \n",
       "4       2  125510.82              1          1               1   \n",
       "\n",
       "   EstimatedSalary  Exited  \n",
       "0        101348.88       1  \n",
       "1        112542.58       0  \n",
       "2        113931.57       1  \n",
       "3         93826.63       0  \n",
       "4         79084.10       0  "
      ]
     },
     "execution_count": 2,
     "metadata": {},
     "output_type": "execute_result"
    }
   ],
   "source": [
    "dataset = pd.read_csv('data/datasets_156197_358170_Churn_Modelling.csv')\n",
    "dataset.head()"
   ]
  },
  {
   "cell_type": "markdown",
   "metadata": {},
   "source": [
    "## 데이터\n",
    "- 나이 \n",
    "- 사용기간 \n",
    "- Numofproduct : 고객이 활용하는 은행 상품 수\n",
    "- balance : 고객의 은행 잔고\n",
    "- HasCrCard : 이진 플래그,  고객이 크래딧카드 가지고 있는지 여부\n",
    "- isActiveMember : 은행에 활동 중인지 여부 \n",
    "- EstimatedSalary : 고객의 예상급여\n"
   ]
  },
  {
   "cell_type": "code",
   "execution_count": 3,
   "metadata": {},
   "outputs": [
    {
     "ename": "NameError",
     "evalue": "name 'churn_corr' is not defined",
     "output_type": "error",
     "traceback": [
      "\u001b[1;31m---------------------------------------------------------------------------\u001b[0m",
      "\u001b[1;31mNameError\u001b[0m                                 Traceback (most recent call last)",
      "\u001b[1;32m<ipython-input-3-b05520fccd9d>\u001b[0m in \u001b[0;36m<module>\u001b[1;34m\u001b[0m\n\u001b[1;32m----> 1\u001b[1;33m \u001b[0msns\u001b[0m\u001b[1;33m.\u001b[0m\u001b[0mheatmap\u001b[0m\u001b[1;33m(\u001b[0m\u001b[0mchurn_corr\u001b[0m\u001b[1;33m,\u001b[0m\u001b[0mannot\u001b[0m \u001b[1;33m=\u001b[0m \u001b[1;32mTrue\u001b[0m\u001b[1;33m)\u001b[0m\u001b[1;33m\u001b[0m\u001b[1;33m\u001b[0m\u001b[0m\n\u001b[0m",
      "\u001b[1;31mNameError\u001b[0m: name 'churn_corr' is not defined"
     ]
    }
   ],
   "source": [
    "sns.heatmap(churn_corr,annot = True)"
   ]
  },
  {
   "cell_type": "code",
   "execution_count": 4,
   "metadata": {},
   "outputs": [
    {
     "data": {
      "text/plain": [
       "<matplotlib.axes._subplots.AxesSubplot at 0x1f85d1bb5b0>"
      ]
     },
     "execution_count": 4,
     "metadata": {},
     "output_type": "execute_result"
    },
    {
     "data": {
      "image/png": "[encoded data removed]",
      "text/plain": [
       "<Figure size 1440x1440 with 2 Axes>"
      ]
     },
     "metadata": {
      "needs_background": "light"
     },
     "output_type": "display_data"
    }
   ],
   "source": [
    "# 20x20 사이즈의 표로 그려달라\n",
    "plt.figure(figsize = (20,20))\n",
    "# 연속형 데이터에 대해서 상관관계 분석 가능\n",
    "# pd.corr() 하면 상관계수가 있는 df이 만들어짐 \n",
    "churn_corr = dataset.corr()\n",
    "churn_corr_top = churn_corr.index\n",
    "# annot 각 셀에 숫자를 입력, fmt = 'd' 는 정수 형태로 숫자 입력하라는 뜻\n",
    "sns.heatmap(dataset[churn_corr_top].corr(), annot = True)\n"
   ]
  },
  {
   "cell_type": "markdown",
   "metadata": {},
   "source": [
    "# 모든행 특정열 pdV.iloc[:, a:b]"
   ]
  },
  {
   "cell_type": "code",
   "execution_count": 5,
   "metadata": {},
   "outputs": [],
   "source": [
    "X = dataset.iloc[:, 3:13]\n",
    "y = dataset.iloc[:, 13]"
   ]
  },
  {
   "cell_type": "markdown",
   "metadata": {},
   "source": [
    "# 명목형 변수들 바꿔주는 방법 pd.get_dummies\n",
    "## prefix = '하고싶은변수이름' 더미들앞에 이름 붙여짐_ 포함\n",
    "# applymap 방법도 있음"
   ]
  },
  {
   "cell_type": "markdown",
   "metadata": {},
   "source": [
    "# 2개는 1개로 3개는 2개로 열을 가져옴"
   ]
  },
  {
   "cell_type": "code",
   "execution_count": 6,
   "metadata": {},
   "outputs": [
    {
     "data": {
      "text/html": [
       "<div>\n",
       "<style scoped>\n",
       "    .dataframe tbody tr th:only-of-type {\n",
       "        vertical-align: middle;\n",
       "    }\n",
       "\n",
       "    .dataframe tbody tr th {\n",
       "        vertical-align: top;\n",
       "    }\n",
       "\n",
       "    .dataframe thead th {\n",
       "        text-align: right;\n",
       "    }\n",
       "</style>\n",
       "<table border=\"1\" class=\"dataframe\">\n",
       "  <thead>\n",
       "    <tr style=\"text-align: right;\">\n",
       "      <th></th>\n",
       "      <th>Male</th>\n",
       "    </tr>\n",
       "  </thead>\n",
       "  <tbody>\n",
       "    <tr>\n",
       "      <th>0</th>\n",
       "      <td>0</td>\n",
       "    </tr>\n",
       "    <tr>\n",
       "      <th>1</th>\n",
       "      <td>0</td>\n",
       "    </tr>\n",
       "    <tr>\n",
       "      <th>2</th>\n",
       "      <td>0</td>\n",
       "    </tr>\n",
       "    <tr>\n",
       "      <th>3</th>\n",
       "      <td>0</td>\n",
       "    </tr>\n",
       "    <tr>\n",
       "      <th>4</th>\n",
       "      <td>0</td>\n",
       "    </tr>\n",
       "  </tbody>\n",
       "</table>\n",
       "</div>"
      ],
      "text/plain": [
       "   Male\n",
       "0     0\n",
       "1     0\n",
       "2     0\n",
       "3     0\n",
       "4     0"
      ]
     },
     "execution_count": 6,
     "metadata": {},
     "output_type": "execute_result"
    }
   ],
   "source": [
    "geography = pd.get_dummies(dataset['Geography'], drop_first = True)\n",
    "gender = pd.get_dummies(dataset['Gender'], drop_first = True)\n",
    "gender.head()"
   ]
  },
  {
   "cell_type": "code",
   "execution_count": 7,
   "metadata": {},
   "outputs": [
    {
     "data": {
      "text/html": [
       "<div>\n",
       "<style scoped>\n",
       "    .dataframe tbody tr th:only-of-type {\n",
       "        vertical-align: middle;\n",
       "    }\n",
       "\n",
       "    .dataframe tbody tr th {\n",
       "        vertical-align: top;\n",
       "    }\n",
       "\n",
       "    .dataframe thead th {\n",
       "        text-align: right;\n",
       "    }\n",
       "</style>\n",
       "<table border=\"1\" class=\"dataframe\">\n",
       "  <thead>\n",
       "    <tr style=\"text-align: right;\">\n",
       "      <th></th>\n",
       "      <th>Female</th>\n",
       "      <th>Male</th>\n",
       "    </tr>\n",
       "  </thead>\n",
       "  <tbody>\n",
       "    <tr>\n",
       "      <th>0</th>\n",
       "      <td>1</td>\n",
       "      <td>0</td>\n",
       "    </tr>\n",
       "    <tr>\n",
       "      <th>1</th>\n",
       "      <td>1</td>\n",
       "      <td>0</td>\n",
       "    </tr>\n",
       "    <tr>\n",
       "      <th>2</th>\n",
       "      <td>1</td>\n",
       "      <td>0</td>\n",
       "    </tr>\n",
       "    <tr>\n",
       "      <th>3</th>\n",
       "      <td>1</td>\n",
       "      <td>0</td>\n",
       "    </tr>\n",
       "    <tr>\n",
       "      <th>4</th>\n",
       "      <td>1</td>\n",
       "      <td>0</td>\n",
       "    </tr>\n",
       "  </tbody>\n",
       "</table>\n",
       "</div>"
      ],
      "text/plain": [
       "   Female  Male\n",
       "0       1     0\n",
       "1       1     0\n",
       "2       1     0\n",
       "3       1     0\n",
       "4       1     0"
      ]
     },
     "execution_count": 7,
     "metadata": {},
     "output_type": "execute_result"
    }
   ],
   "source": [
    "gender1 = pd.get_dummies(dataset['Gender'])\n",
    "gender1.head()"
   ]
  },
  {
   "cell_type": "code",
   "execution_count": 8,
   "metadata": {},
   "outputs": [],
   "source": [
    "# 열 합병\n",
    "X = pd.concat([X, geography, gender], axis=1)"
   ]
  },
  {
   "cell_type": "code",
   "execution_count": 9,
   "metadata": {},
   "outputs": [],
   "source": [
    "# 열 지우기 \n",
    "X = X.drop(['Geography', 'Gender'], axis=1)"
   ]
  },
  {
   "cell_type": "code",
   "execution_count": null,
   "metadata": {},
   "outputs": [],
   "source": []
  },
  {
   "cell_type": "code",
   "execution_count": 10,
   "metadata": {},
   "outputs": [],
   "source": [
    "from sklearn.model_selection import train_test_split\n",
    "#트레이닝, 테스트셋 나누기"
   ]
  },
  {
   "cell_type": "code",
   "execution_count": 11,
   "metadata": {},
   "outputs": [],
   "source": [
    "X_train, X_test, y_train, y_test = train_test_split(X,y, test_size=0.2, random_state=0)"
   ]
  },
  {
   "cell_type": "markdown",
   "metadata": {},
   "source": [
    "# 특성공학 feature Scaling\n",
    "### StandardScaler 사용해서 모든 열들의 값들을 바꿈"
   ]
  },
  {
   "cell_type": "code",
   "execution_count": 12,
   "metadata": {},
   "outputs": [],
   "source": [
    "from sklearn.preprocessing import StandardScaler"
   ]
  },
  {
   "cell_type": "markdown",
   "metadata": {},
   "source": [
    "# StandardScaler(x) : 평균이 0과 표준편차가 1이 되도록 변환\n",
    "    - fit_transform 은 학습용 데이터의 분포를 추정하고 변환\n",
    "    - 검증용 데이터 변환 , 검증용 데이터를 입력으로 하여 검증용 데이터를 변환한다.\n",
    "# MinMaxScaler(X): 최대값이 각각 1, 최소값이 0이 되도록 변환"
   ]
  },
  {
   "cell_type": "code",
   "execution_count": 13,
   "metadata": {},
   "outputs": [],
   "source": [
    "SC = StandardScaler()\n",
    "X_train = SC.fit_transform(X_train)\n",
    "X_test = SC.transform(X_test)"
   ]
  },
  {
   "cell_type": "code",
   "execution_count": 15,
   "metadata": {},
   "outputs": [],
   "source": [
    "import keras\n",
    "from keras.models import Sequential\n",
    "from keras.layers import Dense\n",
    "from keras.layers import LeakyReLU, PReLU, ELU\n",
    "from keras.layers import Dropout"
   ]
  },
  {
   "cell_type": "code",
   "execution_count": 16,
   "metadata": {},
   "outputs": [],
   "source": [
    "classifier = Sequential()"
   ]
  },
  {
   "cell_type": "code",
   "execution_count": 17,
   "metadata": {},
   "outputs": [],
   "source": [
    "# Adding the input layer and the first hidden layer\n",
    "classifier.add(Dense(6, kernel_initializer = 'he_uniform',activation='relu',input_dim = 11))\n",
    "classifier.add(Dropout(0.1))"
   ]
  },
  {
   "cell_type": "code",
   "execution_count": 18,
   "metadata": {},
   "outputs": [],
   "source": [
    "# Adding the second hidden layer\n",
    "classifier.add(Dense(6, kernel_initializer = 'he_uniform',activation='relu'))\n",
    "classifier.add(Dropout(0.1))"
   ]
  },
  {
   "cell_type": "code",
   "execution_count": 19,
   "metadata": {},
   "outputs": [],
   "source": [
    "# Adding the output layer\n",
    "classifier.add(Dense(1, kernel_initializer = 'glorot_uniform', activation = 'sigmoid'))"
   ]
  },
  {
   "cell_type": "code",
   "execution_count": 20,
   "metadata": {},
   "outputs": [],
   "source": [
    "# Compiling the ANN\n",
    "classifier.compile(optimizer='Adamax', loss='binary_crossentropy', metrics=['accuracy'])"
   ]
  },
  {
   "cell_type": "code",
   "execution_count": 21,
   "metadata": {},
   "outputs": [
    {
     "name": "stdout",
     "output_type": "stream",
     "text": [
      "Epoch 1/100\n",
      "536/536 [==============================] - 1s 1ms/step - loss: 0.6458 - accuracy: 0.7557 - val_loss: 0.5740 - val_accuracy: 0.7811\n",
      "Epoch 2/100\n",
      "536/536 [==============================] - 1s 1ms/step - loss: 0.5669 - accuracy: 0.7893 - val_loss: 0.5185 - val_accuracy: 0.7952\n",
      "Epoch 3/100\n",
      "536/536 [==============================] - 1s 1ms/step - loss: 0.5254 - accuracy: 0.7953 - val_loss: 0.4911 - val_accuracy: 0.7955\n",
      "Epoch 4/100\n",
      "536/536 [==============================] - 1s 1ms/step - loss: 0.5012 - accuracy: 0.7959 - val_loss: 0.4756 - val_accuracy: 0.7955\n",
      "Epoch 5/100\n",
      "536/536 [==============================] - 1s 1ms/step - loss: 0.4857 - accuracy: 0.7960 - val_loss: 0.4659 - val_accuracy: 0.7955\n",
      "Epoch 6/100\n",
      "536/536 [==============================] - 1s 1ms/step - loss: 0.4797 - accuracy: 0.7960 - val_loss: 0.4596 - val_accuracy: 0.7955\n",
      "Epoch 7/100\n",
      "536/536 [==============================] - 1s 1ms/step - loss: 0.4714 - accuracy: 0.7960 - val_loss: 0.4546 - val_accuracy: 0.7955\n",
      "Epoch 8/100\n",
      "536/536 [==============================] - 1s 1ms/step - loss: 0.4672 - accuracy: 0.7962 - val_loss: 0.4508 - val_accuracy: 0.7955\n",
      "Epoch 9/100\n",
      "536/536 [==============================] - 1s 1ms/step - loss: 0.4653 - accuracy: 0.7960 - val_loss: 0.4482 - val_accuracy: 0.7955\n",
      "Epoch 10/100\n",
      "536/536 [==============================] - 1s 1ms/step - loss: 0.4611 - accuracy: 0.7966 - val_loss: 0.4458 - val_accuracy: 0.7955\n",
      "Epoch 11/100\n",
      "536/536 [==============================] - 1s 1ms/step - loss: 0.4637 - accuracy: 0.7960 - val_loss: 0.4437 - val_accuracy: 0.7955\n",
      "Epoch 12/100\n",
      "536/536 [==============================] - 1s 1ms/step - loss: 0.4570 - accuracy: 0.7962 - val_loss: 0.4421 - val_accuracy: 0.7955\n",
      "Epoch 13/100\n",
      "536/536 [==============================] - 1s 1ms/step - loss: 0.4562 - accuracy: 0.7962 - val_loss: 0.4407 - val_accuracy: 0.7955\n",
      "Epoch 14/100\n",
      "536/536 [==============================] - 1s 1ms/step - loss: 0.4523 - accuracy: 0.7966 - val_loss: 0.4392 - val_accuracy: 0.7955\n",
      "Epoch 15/100\n",
      "536/536 [==============================] - 1s 1ms/step - loss: 0.4544 - accuracy: 0.7960 - val_loss: 0.4380 - val_accuracy: 0.7955\n",
      "Epoch 16/100\n",
      "536/536 [==============================] - 1s 1ms/step - loss: 0.4468 - accuracy: 0.7962 - val_loss: 0.4365 - val_accuracy: 0.7955\n",
      "Epoch 17/100\n",
      "536/536 [==============================] - 1s 1ms/step - loss: 0.4479 - accuracy: 0.7960 - val_loss: 0.4352 - val_accuracy: 0.7955\n",
      "Epoch 18/100\n",
      "536/536 [==============================] - 1s 1ms/step - loss: 0.4505 - accuracy: 0.7964 - val_loss: 0.4342 - val_accuracy: 0.7955\n",
      "Epoch 19/100\n",
      "536/536 [==============================] - 1s 994us/step - loss: 0.4464 - accuracy: 0.7962 - val_loss: 0.4331 - val_accuracy: 0.7955\n",
      "Epoch 20/100\n",
      "536/536 [==============================] - 0s 917us/step - loss: 0.4448 - accuracy: 0.7966 - val_loss: 0.4320 - val_accuracy: 0.7955\n",
      "Epoch 21/100\n",
      "536/536 [==============================] - 1s 1ms/step - loss: 0.4476 - accuracy: 0.7966 - val_loss: 0.4311 - val_accuracy: 0.7955\n",
      "Epoch 22/100\n",
      "536/536 [==============================] - 1s 1ms/step - loss: 0.4435 - accuracy: 0.7962 - val_loss: 0.4302 - val_accuracy: 0.7955\n",
      "Epoch 23/100\n",
      "536/536 [==============================] - 1s 1ms/step - loss: 0.4398 - accuracy: 0.7966 - val_loss: 0.4290 - val_accuracy: 0.7955\n",
      "Epoch 24/100\n",
      "536/536 [==============================] - ETA: 0s - loss: 0.4435 - accuracy: 0.79 - 1s 1ms/step - loss: 0.4395 - accuracy: 0.7970 - val_loss: 0.4278 - val_accuracy: 0.7955\n",
      "Epoch 25/100\n",
      "536/536 [==============================] - 1s 1ms/step - loss: 0.4393 - accuracy: 0.7977 - val_loss: 0.4266 - val_accuracy: 0.7955\n",
      "Epoch 26/100\n",
      "536/536 [==============================] - 1s 1ms/step - loss: 0.4377 - accuracy: 0.7975 - val_loss: 0.4252 - val_accuracy: 0.7959\n",
      "Epoch 27/100\n",
      "536/536 [==============================] - 1s 1ms/step - loss: 0.4319 - accuracy: 0.7985 - val_loss: 0.4242 - val_accuracy: 0.7967\n",
      "Epoch 28/100\n",
      "536/536 [==============================] - 1s 1ms/step - loss: 0.4330 - accuracy: 0.7981 - val_loss: 0.4228 - val_accuracy: 0.7970\n",
      "Epoch 29/100\n",
      "536/536 [==============================] - 1s 1ms/step - loss: 0.4331 - accuracy: 0.7987 - val_loss: 0.4215 - val_accuracy: 0.7970\n",
      "Epoch 30/100\n",
      "536/536 [==============================] - 1s 1ms/step - loss: 0.4272 - accuracy: 0.8003 - val_loss: 0.4197 - val_accuracy: 0.7978\n",
      "Epoch 31/100\n",
      "536/536 [==============================] - 1s 1ms/step - loss: 0.4314 - accuracy: 0.8024 - val_loss: 0.4182 - val_accuracy: 0.7989\n",
      "Epoch 32/100\n",
      "536/536 [==============================] - 1s 982us/step - loss: 0.4308 - accuracy: 0.8039 - val_loss: 0.4161 - val_accuracy: 0.8005\n",
      "Epoch 33/100\n",
      "536/536 [==============================] - 1s 982us/step - loss: 0.4261 - accuracy: 0.8048 - val_loss: 0.4138 - val_accuracy: 0.8016\n",
      "Epoch 34/100\n",
      "536/536 [==============================] - 1s 1ms/step - loss: 0.4201 - accuracy: 0.8074 - val_loss: 0.4110 - val_accuracy: 0.8031\n",
      "Epoch 35/100\n",
      "536/536 [==============================] - 1s 995us/step - loss: 0.4199 - accuracy: 0.8119 - val_loss: 0.4077 - val_accuracy: 0.8076\n",
      "Epoch 36/100\n",
      "536/536 [==============================] - 1s 992us/step - loss: 0.4177 - accuracy: 0.8121 - val_loss: 0.4048 - val_accuracy: 0.8099\n",
      "Epoch 37/100\n",
      "536/536 [==============================] - 1s 1ms/step - loss: 0.4146 - accuracy: 0.8123 - val_loss: 0.4021 - val_accuracy: 0.8122\n",
      "Epoch 38/100\n",
      "536/536 [==============================] - 1s 1ms/step - loss: 0.4113 - accuracy: 0.8136 - val_loss: 0.3996 - val_accuracy: 0.8126\n",
      "Epoch 39/100\n",
      "536/536 [==============================] - 1s 968us/step - loss: 0.4119 - accuracy: 0.8141 - val_loss: 0.3975 - val_accuracy: 0.8133\n",
      "Epoch 40/100\n",
      "536/536 [==============================] - 1s 1ms/step - loss: 0.4062 - accuracy: 0.8164 - val_loss: 0.3953 - val_accuracy: 0.8137\n",
      "Epoch 41/100\n",
      "536/536 [==============================] - 1s 982us/step - loss: 0.4030 - accuracy: 0.8171 - val_loss: 0.3934 - val_accuracy: 0.8160\n",
      "Epoch 42/100\n",
      "536/536 [==============================] - 1s 986us/step - loss: 0.4057 - accuracy: 0.8156 - val_loss: 0.3918 - val_accuracy: 0.8160\n",
      "Epoch 43/100\n",
      "536/536 [==============================] - 1s 1ms/step - loss: 0.4029 - accuracy: 0.8143 - val_loss: 0.3902 - val_accuracy: 0.8160\n",
      "Epoch 44/100\n",
      "536/536 [==============================] - 1s 942us/step - loss: 0.4008 - accuracy: 0.8168 - val_loss: 0.3887 - val_accuracy: 0.8160\n",
      "Epoch 45/100\n",
      "536/536 [==============================] - 1s 1ms/step - loss: 0.3984 - accuracy: 0.8160 - val_loss: 0.3876 - val_accuracy: 0.8160\n",
      "Epoch 46/100\n",
      "536/536 [==============================] - 1s 956us/step - loss: 0.3978 - accuracy: 0.8181 - val_loss: 0.3865 - val_accuracy: 0.8160\n",
      "Epoch 47/100\n",
      "536/536 [==============================] - 1s 990us/step - loss: 0.3983 - accuracy: 0.8155 - val_loss: 0.3851 - val_accuracy: 0.8160\n",
      "Epoch 48/100\n",
      "536/536 [==============================] - 1s 1ms/step - loss: 0.3958 - accuracy: 0.8166 - val_loss: 0.3841 - val_accuracy: 0.8156\n",
      "Epoch 49/100\n",
      "536/536 [==============================] - 1s 1ms/step - loss: 0.3964 - accuracy: 0.8160 - val_loss: 0.3832 - val_accuracy: 0.8156\n",
      "Epoch 50/100\n",
      "536/536 [==============================] - 1s 984us/step - loss: 0.3916 - accuracy: 0.8164 - val_loss: 0.3824 - val_accuracy: 0.8156\n",
      "Epoch 51/100\n",
      "536/536 [==============================] - 1s 1ms/step - loss: 0.3940 - accuracy: 0.8166 - val_loss: 0.3814 - val_accuracy: 0.8156\n",
      "Epoch 52/100\n",
      "536/536 [==============================] - 1s 999us/step - loss: 0.3943 - accuracy: 0.8168 - val_loss: 0.3807 - val_accuracy: 0.8156\n",
      "Epoch 53/100\n",
      "536/536 [==============================] - 1s 992us/step - loss: 0.3884 - accuracy: 0.8181 - val_loss: 0.3798 - val_accuracy: 0.8160\n",
      "Epoch 54/100\n",
      "536/536 [==============================] - 1s 1ms/step - loss: 0.3908 - accuracy: 0.8179 - val_loss: 0.3792 - val_accuracy: 0.8160\n",
      "Epoch 55/100\n",
      "536/536 [==============================] - 1s 990us/step - loss: 0.3915 - accuracy: 0.8179 - val_loss: 0.3786 - val_accuracy: 0.8156\n",
      "Epoch 56/100\n",
      "536/536 [==============================] - 1s 990us/step - loss: 0.3903 - accuracy: 0.8179 - val_loss: 0.3779 - val_accuracy: 0.8160\n",
      "Epoch 57/100\n"
     ]
    },
    {
     "name": "stdout",
     "output_type": "stream",
     "text": [
      "536/536 [==============================] - 1s 979us/step - loss: 0.3980 - accuracy: 0.8168 - val_loss: 0.3776 - val_accuracy: 0.8160\n",
      "Epoch 58/100\n",
      "536/536 [==============================] - 1s 984us/step - loss: 0.3934 - accuracy: 0.8147 - val_loss: 0.3772 - val_accuracy: 0.8164\n",
      "Epoch 59/100\n",
      "536/536 [==============================] - 1s 1ms/step - loss: 0.3857 - accuracy: 0.8192 - val_loss: 0.3762 - val_accuracy: 0.8164\n",
      "Epoch 60/100\n",
      "536/536 [==============================] - 1s 1ms/step - loss: 0.3889 - accuracy: 0.8182 - val_loss: 0.3755 - val_accuracy: 0.8164\n",
      "Epoch 61/100\n",
      "536/536 [==============================] - 1s 1ms/step - loss: 0.3963 - accuracy: 0.8162 - val_loss: 0.3750 - val_accuracy: 0.8160\n",
      "Epoch 62/100\n",
      "536/536 [==============================] - 1s 1ms/step - loss: 0.3905 - accuracy: 0.8169 - val_loss: 0.3745 - val_accuracy: 0.8160\n",
      "Epoch 63/100\n",
      "536/536 [==============================] - 1s 995us/step - loss: 0.3909 - accuracy: 0.8177 - val_loss: 0.3742 - val_accuracy: 0.8164\n",
      "Epoch 64/100\n",
      "536/536 [==============================] - 1s 990us/step - loss: 0.3880 - accuracy: 0.8175 - val_loss: 0.3737 - val_accuracy: 0.8164\n",
      "Epoch 65/100\n",
      "536/536 [==============================] - 1s 977us/step - loss: 0.3921 - accuracy: 0.8162 - val_loss: 0.3731 - val_accuracy: 0.8164\n",
      "Epoch 66/100\n",
      "536/536 [==============================] - 1s 997us/step - loss: 0.3842 - accuracy: 0.8179 - val_loss: 0.3724 - val_accuracy: 0.8164\n",
      "Epoch 67/100\n",
      "536/536 [==============================] - 1s 988us/step - loss: 0.3841 - accuracy: 0.8364 - val_loss: 0.3717 - val_accuracy: 0.8455\n",
      "Epoch 68/100\n",
      "536/536 [==============================] - 1s 979us/step - loss: 0.3847 - accuracy: 0.8468 - val_loss: 0.3713 - val_accuracy: 0.8459\n",
      "Epoch 69/100\n",
      "536/536 [==============================] - 1s 982us/step - loss: 0.3875 - accuracy: 0.8461 - val_loss: 0.3708 - val_accuracy: 0.8463\n",
      "Epoch 70/100\n",
      "536/536 [==============================] - 1s 971us/step - loss: 0.3818 - accuracy: 0.8449 - val_loss: 0.3703 - val_accuracy: 0.8482\n",
      "Epoch 71/100\n",
      "536/536 [==============================] - 1s 986us/step - loss: 0.3858 - accuracy: 0.8462 - val_loss: 0.3698 - val_accuracy: 0.8493\n",
      "Epoch 72/100\n",
      "536/536 [==============================] - 1s 1ms/step - loss: 0.3895 - accuracy: 0.8419 - val_loss: 0.3694 - val_accuracy: 0.8497\n",
      "Epoch 73/100\n",
      "536/536 [==============================] - 1s 1ms/step - loss: 0.3863 - accuracy: 0.8464 - val_loss: 0.3688 - val_accuracy: 0.8493\n",
      "Epoch 74/100\n",
      "536/536 [==============================] - 1s 992us/step - loss: 0.3870 - accuracy: 0.8427 - val_loss: 0.3688 - val_accuracy: 0.8519\n",
      "Epoch 75/100\n",
      "536/536 [==============================] - 1s 990us/step - loss: 0.3885 - accuracy: 0.8468 - val_loss: 0.3685 - val_accuracy: 0.8493\n",
      "Epoch 76/100\n",
      "536/536 [==============================] - 1s 1ms/step - loss: 0.3831 - accuracy: 0.8442 - val_loss: 0.3681 - val_accuracy: 0.8512\n",
      "Epoch 77/100\n",
      "536/536 [==============================] - 1s 997us/step - loss: 0.3859 - accuracy: 0.8462 - val_loss: 0.3677 - val_accuracy: 0.8519\n",
      "Epoch 78/100\n",
      "536/536 [==============================] - 1s 999us/step - loss: 0.3822 - accuracy: 0.8462 - val_loss: 0.3673 - val_accuracy: 0.8512\n",
      "Epoch 79/100\n",
      "536/536 [==============================] - 1s 999us/step - loss: 0.3868 - accuracy: 0.8472 - val_loss: 0.3672 - val_accuracy: 0.8516\n",
      "Epoch 80/100\n",
      "536/536 [==============================] - 1s 1ms/step - loss: 0.3852 - accuracy: 0.8457 - val_loss: 0.3674 - val_accuracy: 0.8512\n",
      "Epoch 81/100\n",
      "536/536 [==============================] - 1s 982us/step - loss: 0.3861 - accuracy: 0.8455 - val_loss: 0.3672 - val_accuracy: 0.8512\n",
      "Epoch 82/100\n",
      "536/536 [==============================] - 1s 992us/step - loss: 0.3796 - accuracy: 0.8447 - val_loss: 0.3669 - val_accuracy: 0.8508\n",
      "Epoch 83/100\n",
      "536/536 [==============================] - 1s 1ms/step - loss: 0.3876 - accuracy: 0.8438 - val_loss: 0.3671 - val_accuracy: 0.8516\n",
      "Epoch 84/100\n",
      "536/536 [==============================] - 1s 981us/step - loss: 0.3800 - accuracy: 0.8459 - val_loss: 0.3668 - val_accuracy: 0.8516\n",
      "Epoch 85/100\n",
      "536/536 [==============================] - 1s 982us/step - loss: 0.3836 - accuracy: 0.8455 - val_loss: 0.3664 - val_accuracy: 0.8516\n",
      "Epoch 86/100\n",
      "536/536 [==============================] - 1s 995us/step - loss: 0.3834 - accuracy: 0.8487 - val_loss: 0.3661 - val_accuracy: 0.8527\n",
      "Epoch 87/100\n",
      "536/536 [==============================] - 1s 992us/step - loss: 0.3804 - accuracy: 0.8449 - val_loss: 0.3659 - val_accuracy: 0.8535\n",
      "Epoch 88/100\n",
      "536/536 [==============================] - 1s 1ms/step - loss: 0.3724 - accuracy: 0.8455 - val_loss: 0.3657 - val_accuracy: 0.8527\n",
      "Epoch 89/100\n",
      "536/536 [==============================] - 1s 1ms/step - loss: 0.3812 - accuracy: 0.8531 - val_loss: 0.3654 - val_accuracy: 0.8535\n",
      "Epoch 90/100\n",
      "536/536 [==============================] - 1s 999us/step - loss: 0.3751 - accuracy: 0.8492 - val_loss: 0.3652 - val_accuracy: 0.8516\n",
      "Epoch 91/100\n",
      "536/536 [==============================] - 1s 994us/step - loss: 0.3800 - accuracy: 0.8464 - val_loss: 0.3650 - val_accuracy: 0.8512\n",
      "Epoch 92/100\n",
      "536/536 [==============================] - 1s 980us/step - loss: 0.3734 - accuracy: 0.8468 - val_loss: 0.3647 - val_accuracy: 0.8512\n",
      "Epoch 93/100\n",
      "536/536 [==============================] - 1s 1ms/step - loss: 0.3773 - accuracy: 0.8487 - val_loss: 0.3646 - val_accuracy: 0.8512\n",
      "Epoch 94/100\n",
      "536/536 [==============================] - 1s 982us/step - loss: 0.3816 - accuracy: 0.8507 - val_loss: 0.3642 - val_accuracy: 0.8512\n",
      "Epoch 95/100\n",
      "536/536 [==============================] - 1s 984us/step - loss: 0.3844 - accuracy: 0.8464 - val_loss: 0.3641 - val_accuracy: 0.8516\n",
      "Epoch 96/100\n",
      "536/536 [==============================] - 1s 975us/step - loss: 0.3840 - accuracy: 0.8451 - val_loss: 0.3646 - val_accuracy: 0.8512\n",
      "Epoch 97/100\n",
      "536/536 [==============================] - 1s 1ms/step - loss: 0.3785 - accuracy: 0.8505 - val_loss: 0.3639 - val_accuracy: 0.8531\n",
      "Epoch 98/100\n",
      "536/536 [==============================] - 1s 984us/step - loss: 0.3759 - accuracy: 0.8494 - val_loss: 0.3635 - val_accuracy: 0.8535\n",
      "Epoch 99/100\n",
      "536/536 [==============================] - 1s 990us/step - loss: 0.3812 - accuracy: 0.8468 - val_loss: 0.3634 - val_accuracy: 0.8542\n",
      "Epoch 100/100\n",
      "536/536 [==============================] - 1s 1ms/step - loss: 0.3806 - accuracy: 0.8481 - val_loss: 0.3633 - val_accuracy: 0.8538\n"
     ]
    }
   ],
   "source": [
    "model_history = classifier.fit(X_train, y_train, validation_split=0.33, batch_size = 10, epochs = 100)"
   ]
  },
  {
   "cell_type": "code",
   "execution_count": 23,
   "metadata": {},
   "outputs": [
    {
     "data": {
      "image/png": "[encoded data removed]",
      "text/plain": [
       "<Figure size 432x288 with 1 Axes>"
      ]
     },
     "metadata": {
      "needs_background": "light"
     },
     "output_type": "display_data"
    }
   ],
   "source": [
    "plt.plot(model_history.history['accuracy'])\n",
    "plt.plot(model_history.history['val_accuracy'])\n",
    "plt.title('model accuracy')\n",
    "plt.ylabel('accuracy')\n",
    "plt.xlabel('epoch')\n",
    "plt.legend(['train', 'test'], loc='upper left')\n",
    "plt.show()"
   ]
  },
  {
   "cell_type": "code",
   "execution_count": 24,
   "metadata": {},
   "outputs": [
    {
     "data": {
      "image/png": "[encoded data removed]",
      "text/plain": [
       "<Figure size 432x288 with 1 Axes>"
      ]
     },
     "metadata": {
      "needs_background": "light"
     },
     "output_type": "display_data"
    }
   ],
   "source": [
    "# summarize history for loss\n",
    "plt.plot(model_history.history['loss'])\n",
    "plt.plot(model_history.history['val_loss'])\n",
    "plt.title('model loss')\n",
    "plt.ylabel('loss')\n",
    "plt.xlabel('epoch')\n",
    "plt.legend(['train', 'test'], loc='upper left')\n",
    "plt.show()"
   ]
  },
  {
   "cell_type": "code",
   "execution_count": 25,
   "metadata": {},
   "outputs": [
    {
     "data": {
      "text/plain": [
       "array([[False],\n",
       "       [False],\n",
       "       [False],\n",
       "       ...,\n",
       "       [False],\n",
       "       [False],\n",
       "       [False]])"
      ]
     },
     "execution_count": 25,
     "metadata": {},
     "output_type": "execute_result"
    }
   ],
   "source": [
    "y_pred = classifier.predict(X_test)\n",
    "y_pred = (y_pred > 0.5)\n",
    "y_pred"
   ]
  },
  {
   "cell_type": "code",
   "execution_count": 26,
   "metadata": {},
   "outputs": [],
   "source": [
    "# Making the Confusion Matrix\n",
    "from sklearn.metrics import confusion_matrix\n",
    "cm = confusion_matrix(y_test, y_pred)"
   ]
  },
  {
   "cell_type": "code",
   "execution_count": 27,
   "metadata": {},
   "outputs": [
    {
     "data": {
      "text/plain": [
       "array([[1533,   62],\n",
       "       [ 208,  197]], dtype=int64)"
      ]
     },
     "execution_count": 27,
     "metadata": {},
     "output_type": "execute_result"
    }
   ],
   "source": [
    "cm"
   ]
  },
  {
   "cell_type": "code",
   "execution_count": 28,
   "metadata": {},
   "outputs": [],
   "source": [
    "# Calculate the Accuracy\n",
    "from sklearn.metrics import accuracy_score\n",
    "score = accuracy_score(y_test, y_pred)"
   ]
  },
  {
   "cell_type": "code",
   "execution_count": 29,
   "metadata": {},
   "outputs": [
    {
     "data": {
      "text/plain": [
       "0.865"
      ]
     },
     "execution_count": 29,
     "metadata": {},
     "output_type": "execute_result"
    }
   ],
   "source": [
    "score"
   ]
  },
  {
   "cell_type": "markdown",
   "metadata": {},
   "source": [
    "# Hyper parameter Tuning for DNN\n",
    "\n",
    "https://wikidocs.net/32105"
   ]
  },
  {
   "cell_type": "code",
   "execution_count": 31,
   "metadata": {},
   "outputs": [],
   "source": [
    "from keras.wrappers.scikit_learn import KerasClassifier\n",
    "from sklearn.model_selection import GridSearchCV\n",
    "from keras.layers import Dense, Activation, Embedding, Flatten, LeakyReLU, BatchNormalization, Dropout\n",
    "from keras.activations import relu, sigmoid"
   ]
  },
  {
   "cell_type": "markdown",
   "metadata": {},
   "source": [
    "# layers와 activation 을 입력받고 모델을 생성하는 함수\n",
    "## 몇개 인지 안새도됨input_dim = X_train.shape[1]"
   ]
  },
  {
   "cell_type": "code",
   "execution_count": 32,
   "metadata": {},
   "outputs": [],
   "source": [
    "\n",
    "def create_model(layers, activation):\n",
    "    model = Sequential()\n",
    "    for i, nodes in enumerate(layers):\n",
    "        if i == 0:\n",
    "            model.add(Dense(nodes, kernel_initializer = 'he_uniform',activation=activation,input_dim = X_train.shape[1]))\n",
    "            model.add(Dropout(0.1))\n",
    "        else:\n",
    "            model.add(Dense(nodes, kernel_initializer = 'he_uniform',activation=activation))\n",
    "            model.add(Dropout(0.1))\n",
    "\n",
    "    # Adding the output layer\n",
    "    model.add(Dense(1, kernel_initializer = 'glorot_uniform', activation = 'sigmoid'))\n",
    "                           \n",
    "    # Compiling the ANN\n",
    "    model.compile(optimizer='Adamax', loss='binary_crossentropy', metrics=['accuracy'])\n",
    "    return model"
   ]
  },
  {
   "cell_type": "code",
   "execution_count": 33,
   "metadata": {},
   "outputs": [],
   "source": [
    "model = KerasClassifier(build_fn=create_model, verbose=0)\n",
    "layers = [(6, 3, 3), (10, 10), (45, 30, 15)]\n",
    "activations = ['sigmoid', 'relu']\n",
    "param_grid = dict(layers=layers, activation=activations, batch_size = [128, 256], epochs=[30])\n",
    "grid = GridSearchCV(estimator=model, param_grid=param_grid,cv=5)\n",
    "grid_result = grid.fit(X_train, y_train)"
   ]
  },
  {
   "cell_type": "code",
   "execution_count": 34,
   "metadata": {},
   "outputs": [
    {
     "data": {
      "text/plain": [
       "[0.8379999995231628,\n",
       " {'activation': 'relu',\n",
       "  'batch_size': 128,\n",
       "  'epochs': 30,\n",
       "  'layers': (45, 30, 15)}]"
      ]
     },
     "execution_count": 34,
     "metadata": {},
     "output_type": "execute_result"
    }
   ],
   "source": [
    "[grid_result.best_score_,grid_result.best_params_]"
   ]
  },
  {
   "cell_type": "markdown",
   "metadata": {},
   "source": [
    "# XGboost\n",
    "- XGBoost는 여러개의 Decision Tree를 조합해서 사용하는 Ensemble 알고리즘이다.\n",
    "- Ensemble은 방식에 따라서 Bagging과 Boosting 으로 분류된다.\n",
    "- Boosting은 원리가 다른데 먼저 m1~3 모델이 있을때, m1에는 x에서 샘플링된 데이터를 넣는다. 그리고, 나온 결과중에서, 예측이 잘못된 x중의 값들에 가중치를 반영해서 다음 모델인 m2에 넣는다.  마찬가지로 y2 결과에서 예측이 잘못된 x’에 값들에 가중치를 반영해서 m3에 넣는다. 그리고, 각 모델의 성능이 다르기 때문에, 각 모델에 가중치 W를 반영한다.\n",
    "\n",
    "## Hyper Parameter Optimization for xgboost\n",
    "\n",
    "## https://bcho.tistory.com/1354"
   ]
  },
  {
   "cell_type": "code",
   "execution_count": 35,
   "metadata": {},
   "outputs": [],
   "source": [
    "params = {\n",
    "    \"max_depth\": [3, 4, 5, 6, 8, 10, 12, 15],\n",
    "    \"learning_rate\": [0.5, 0.10, 0.15, 0.20, 0.25, 0.30],\n",
    "    \"min_child_weight\": [1, 3, 5, 7],\n",
    "    \"gamma\": [0.0, 0.1, 0.2, 0.3, 0.4],\n",
    "    \"colsample_bytree\": [0.3, 0.4, 0.5, 0.7]\n",
    "}"
   ]
  },
  {
   "cell_type": "code",
   "execution_count": 37,
   "metadata": {},
   "outputs": [],
   "source": [
    "## Hyperparameter optimization using RandomizedSearchCV\n",
    "from sklearn.model_selection import RandomizedSearchCV\n",
    "import xgboost"
   ]
  },
  {
   "cell_type": "code",
   "execution_count": 38,
   "metadata": {},
   "outputs": [],
   "source": [
    "xgb_init = xgboost.XGBClassifier()"
   ]
  },
  {
   "cell_type": "code",
   "execution_count": 39,
   "metadata": {},
   "outputs": [],
   "source": [
    "random_cv = RandomizedSearchCV(xgb_init, param_distributions=params, n_iter=5, scoring=\"roc_auc\", n_jobs=1, cv=5, verbose=3)"
   ]
  },
  {
   "cell_type": "code",
   "execution_count": 40,
   "metadata": {},
   "outputs": [
    {
     "name": "stdout",
     "output_type": "stream",
     "text": [
      "Fitting 5 folds for each of 5 candidates, totalling 25 fits\n",
      "[CV] min_child_weight=5, max_depth=3, learning_rate=0.1, gamma=0.4, colsample_bytree=0.4 \n",
      "[CV]  min_child_weight=5, max_depth=3, learning_rate=0.1, gamma=0.4, colsample_bytree=0.4, score=0.868, total=   0.2s"
     ]
    },
    {
     "name": "stderr",
     "output_type": "stream",
     "text": [
      "[Parallel(n_jobs=1)]: Using backend SequentialBackend with 1 concurrent workers.\n"
     ]
    },
    {
     "name": "stdout",
     "output_type": "stream",
     "text": [
      "\n",
      "[CV] min_child_weight=5, max_depth=3, learning_rate=0.1, gamma=0.4, colsample_bytree=0.4 \n",
      "[CV]  min_child_weight=5, max_depth=3, learning_rate=0.1, gamma=0.4, colsample_bytree=0.4, score=0.864, total=   0.2s\n",
      "[CV] min_child_weight=5, max_depth=3, learning_rate=0.1, gamma=0.4, colsample_bytree=0.4 \n"
     ]
    },
    {
     "name": "stderr",
     "output_type": "stream",
     "text": [
      "[Parallel(n_jobs=1)]: Done   1 out of   1 | elapsed:    0.1s remaining:    0.0s\n",
      "[Parallel(n_jobs=1)]: Done   2 out of   2 | elapsed:    0.3s remaining:    0.0s\n"
     ]
    },
    {
     "name": "stdout",
     "output_type": "stream",
     "text": [
      "[CV]  min_child_weight=5, max_depth=3, learning_rate=0.1, gamma=0.4, colsample_bytree=0.4, score=0.862, total=   0.2s\n",
      "[CV] min_child_weight=5, max_depth=3, learning_rate=0.1, gamma=0.4, colsample_bytree=0.4 \n",
      "[CV]  min_child_weight=5, max_depth=3, learning_rate=0.1, gamma=0.4, colsample_bytree=0.4, score=0.865, total=   0.2s\n",
      "[CV] min_child_weight=5, max_depth=3, learning_rate=0.1, gamma=0.4, colsample_bytree=0.4 \n",
      "[CV]  min_child_weight=5, max_depth=3, learning_rate=0.1, gamma=0.4, colsample_bytree=0.4, score=0.862, total=   0.2s\n",
      "[CV] min_child_weight=5, max_depth=6, learning_rate=0.15, gamma=0.3, colsample_bytree=0.7 \n",
      "[CV]  min_child_weight=5, max_depth=6, learning_rate=0.15, gamma=0.3, colsample_bytree=0.7, score=0.864, total=   0.3s\n",
      "[CV] min_child_weight=5, max_depth=6, learning_rate=0.15, gamma=0.3, colsample_bytree=0.7 \n",
      "[CV]  min_child_weight=5, max_depth=6, learning_rate=0.15, gamma=0.3, colsample_bytree=0.7, score=0.865, total=   0.3s\n",
      "[CV] min_child_weight=5, max_depth=6, learning_rate=0.15, gamma=0.3, colsample_bytree=0.7 \n",
      "[CV]  min_child_weight=5, max_depth=6, learning_rate=0.15, gamma=0.3, colsample_bytree=0.7, score=0.856, total=   0.3s\n",
      "[CV] min_child_weight=5, max_depth=6, learning_rate=0.15, gamma=0.3, colsample_bytree=0.7 \n",
      "[CV]  min_child_weight=5, max_depth=6, learning_rate=0.15, gamma=0.3, colsample_bytree=0.7, score=0.867, total=   0.3s\n",
      "[CV] min_child_weight=5, max_depth=6, learning_rate=0.15, gamma=0.3, colsample_bytree=0.7 \n",
      "[CV]  min_child_weight=5, max_depth=6, learning_rate=0.15, gamma=0.3, colsample_bytree=0.7, score=0.857, total=   0.3s\n",
      "[CV] min_child_weight=3, max_depth=10, learning_rate=0.1, gamma=0.3, colsample_bytree=0.5 \n",
      "[CV]  min_child_weight=3, max_depth=10, learning_rate=0.1, gamma=0.3, colsample_bytree=0.5, score=0.855, total=   0.5s\n",
      "[CV] min_child_weight=3, max_depth=10, learning_rate=0.1, gamma=0.3, colsample_bytree=0.5 \n",
      "[CV]  min_child_weight=3, max_depth=10, learning_rate=0.1, gamma=0.3, colsample_bytree=0.5, score=0.859, total=   0.5s\n",
      "[CV] min_child_weight=3, max_depth=10, learning_rate=0.1, gamma=0.3, colsample_bytree=0.5 \n",
      "[CV]  min_child_weight=3, max_depth=10, learning_rate=0.1, gamma=0.3, colsample_bytree=0.5, score=0.852, total=   0.5s\n",
      "[CV] min_child_weight=3, max_depth=10, learning_rate=0.1, gamma=0.3, colsample_bytree=0.5 \n",
      "[CV]  min_child_weight=3, max_depth=10, learning_rate=0.1, gamma=0.3, colsample_bytree=0.5, score=0.865, total=   0.5s\n",
      "[CV] min_child_weight=3, max_depth=10, learning_rate=0.1, gamma=0.3, colsample_bytree=0.5 \n",
      "[CV]  min_child_weight=3, max_depth=10, learning_rate=0.1, gamma=0.3, colsample_bytree=0.5, score=0.850, total=   0.5s\n",
      "[CV] min_child_weight=7, max_depth=6, learning_rate=0.25, gamma=0.2, colsample_bytree=0.5 \n",
      "[CV]  min_child_weight=7, max_depth=6, learning_rate=0.25, gamma=0.2, colsample_bytree=0.5, score=0.860, total=   0.3s\n",
      "[CV] min_child_weight=7, max_depth=6, learning_rate=0.25, gamma=0.2, colsample_bytree=0.5 \n",
      "[CV]  min_child_weight=7, max_depth=6, learning_rate=0.25, gamma=0.2, colsample_bytree=0.5, score=0.861, total=   0.3s\n",
      "[CV] min_child_weight=7, max_depth=6, learning_rate=0.25, gamma=0.2, colsample_bytree=0.5 \n",
      "[CV]  min_child_weight=7, max_depth=6, learning_rate=0.25, gamma=0.2, colsample_bytree=0.5, score=0.854, total=   0.3s\n",
      "[CV] min_child_weight=7, max_depth=6, learning_rate=0.25, gamma=0.2, colsample_bytree=0.5 \n",
      "[CV]  min_child_weight=7, max_depth=6, learning_rate=0.25, gamma=0.2, colsample_bytree=0.5, score=0.861, total=   0.3s\n",
      "[CV] min_child_weight=7, max_depth=6, learning_rate=0.25, gamma=0.2, colsample_bytree=0.5 \n",
      "[CV]  min_child_weight=7, max_depth=6, learning_rate=0.25, gamma=0.2, colsample_bytree=0.5, score=0.855, total=   0.3s\n",
      "[CV] min_child_weight=5, max_depth=6, learning_rate=0.3, gamma=0.2, colsample_bytree=0.3 \n",
      "[CV]  min_child_weight=5, max_depth=6, learning_rate=0.3, gamma=0.2, colsample_bytree=0.3, score=0.853, total=   0.2s\n",
      "[CV] min_child_weight=5, max_depth=6, learning_rate=0.3, gamma=0.2, colsample_bytree=0.3 \n",
      "[CV]  min_child_weight=5, max_depth=6, learning_rate=0.3, gamma=0.2, colsample_bytree=0.3, score=0.855, total=   0.3s\n",
      "[CV] min_child_weight=5, max_depth=6, learning_rate=0.3, gamma=0.2, colsample_bytree=0.3 \n",
      "[CV]  min_child_weight=5, max_depth=6, learning_rate=0.3, gamma=0.2, colsample_bytree=0.3, score=0.848, total=   0.3s\n",
      "[CV] min_child_weight=5, max_depth=6, learning_rate=0.3, gamma=0.2, colsample_bytree=0.3 \n",
      "[CV]  min_child_weight=5, max_depth=6, learning_rate=0.3, gamma=0.2, colsample_bytree=0.3, score=0.860, total=   0.2s\n",
      "[CV] min_child_weight=5, max_depth=6, learning_rate=0.3, gamma=0.2, colsample_bytree=0.3 \n",
      "[CV]  min_child_weight=5, max_depth=6, learning_rate=0.3, gamma=0.2, colsample_bytree=0.3, score=0.848, total=   0.3s\n"
     ]
    },
    {
     "name": "stderr",
     "output_type": "stream",
     "text": [
      "[Parallel(n_jobs=1)]: Done  25 out of  25 | elapsed:    7.6s finished\n"
     ]
    },
    {
     "data": {
      "text/plain": [
       "RandomizedSearchCV(cv=5,\n",
       "                   estimator=XGBClassifier(base_score=None, booster=None,\n",
       "                                           colsample_bylevel=None,\n",
       "                                           colsample_bynode=None,\n",
       "                                           colsample_bytree=None, gamma=None,\n",
       "                                           gpu_id=None, importance_type='gain',\n",
       "                                           interaction_constraints=None,\n",
       "                                           learning_rate=None,\n",
       "                                           max_delta_step=None, max_depth=None,\n",
       "                                           min_child_weight=None, missing=nan,\n",
       "                                           monotone_constraints=None,\n",
       "                                           n_estimators=100,...\n",
       "                                           reg_lambda=None,\n",
       "                                           scale_pos_weight=None,\n",
       "                                           subsample=None, tree_method=None,\n",
       "                                           validate_parameters=None,\n",
       "                                           verbosity=None),\n",
       "                   n_iter=5, n_jobs=1,\n",
       "                   param_distributions={'colsample_bytree': [0.3, 0.4, 0.5,\n",
       "                                                             0.7],\n",
       "                                        'gamma': [0.0, 0.1, 0.2, 0.3, 0.4],\n",
       "                                        'learning_rate': [0.5, 0.1, 0.15, 0.2,\n",
       "                                                          0.25, 0.3],\n",
       "                                        'max_depth': [3, 4, 5, 6, 8, 10, 12,\n",
       "                                                      15],\n",
       "                                        'min_child_weight': [1, 3, 5, 7]},\n",
       "                   scoring='roc_auc', verbose=3)"
      ]
     },
     "execution_count": 40,
     "metadata": {},
     "output_type": "execute_result"
    }
   ],
   "source": [
    "random_cv.fit(X, y)"
   ]
  },
  {
   "cell_type": "code",
   "execution_count": 41,
   "metadata": {},
   "outputs": [
    {
     "data": {
      "text/plain": [
       "XGBClassifier(base_score=0.5, booster='gbtree', colsample_bylevel=1,\n",
       "              colsample_bynode=1, colsample_bytree=0.4, gamma=0.4, gpu_id=-1,\n",
       "              importance_type='gain', interaction_constraints='',\n",
       "              learning_rate=0.1, max_delta_step=0, max_depth=3,\n",
       "              min_child_weight=5, missing=nan, monotone_constraints='()',\n",
       "              n_estimators=100, n_jobs=0, num_parallel_tree=1, random_state=0,\n",
       "              reg_alpha=0, reg_lambda=1, scale_pos_weight=1, subsample=1,\n",
       "              tree_method='exact', validate_parameters=1, verbosity=None)"
      ]
     },
     "execution_count": 41,
     "metadata": {},
     "output_type": "execute_result"
    }
   ],
   "source": [
    "random_cv.best_estimator_"
   ]
  },
  {
   "cell_type": "code",
   "execution_count": 42,
   "metadata": {},
   "outputs": [
    {
     "data": {
      "text/plain": [
       "{'min_child_weight': 5,\n",
       " 'max_depth': 3,\n",
       " 'learning_rate': 0.1,\n",
       " 'gamma': 0.4,\n",
       " 'colsample_bytree': 0.4}"
      ]
     },
     "execution_count": 42,
     "metadata": {},
     "output_type": "execute_result"
    }
   ],
   "source": [
    "random_cv.best_params_"
   ]
  },
  {
   "cell_type": "code",
   "execution_count": 43,
   "metadata": {},
   "outputs": [],
   "source": [
    "xgb_classifier = xgboost.XGBClassifier(base_score=0.5, booster='gbtree', colsample_bylevel=1,\n",
    "              colsample_bynode=1, colsample_bytree=0.4, gamma=0.2, gpu_id=-1,\n",
    "              importance_type='gain', interaction_constraints='',\n",
    "              learning_rate=0.3, max_delta_step=0, max_depth=3,\n",
    "              min_child_weight=1, missing=None, monotone_constraints='()',\n",
    "              n_estimators=100, n_jobs=0, num_parallel_tree=1, random_state=0,\n",
    "              reg_alpha=0, reg_lambda=1, scale_pos_weight=1, subsample=1,\n",
    "              tree_method='exact', validate_parameters=1, verbosity=None)"
   ]
  },
  {
   "cell_type": "code",
   "execution_count": 44,
   "metadata": {},
   "outputs": [],
   "source": [
    "from sklearn.model_selection import cross_val_score"
   ]
  },
  {
   "cell_type": "code",
   "execution_count": 45,
   "metadata": {},
   "outputs": [
    {
     "data": {
      "text/plain": [
       "array([0.872, 0.862, 0.877, 0.866, 0.858, 0.853, 0.868, 0.867, 0.863,\n",
       "       0.852])"
      ]
     },
     "execution_count": 45,
     "metadata": {},
     "output_type": "execute_result"
    }
   ],
   "source": [
    "predict = cross_val_score(xgb_classifier, X, y, cv=10)\n",
    "predict"
   ]
  },
  {
   "cell_type": "code",
   "execution_count": 46,
   "metadata": {},
   "outputs": [
    {
     "data": {
      "text/plain": [
       "0.8638"
      ]
     },
     "execution_count": 46,
     "metadata": {},
     "output_type": "execute_result"
    }
   ],
   "source": [
    "predict = predict.mean()\n",
    "predict"
   ]
  },
  {
   "cell_type": "code",
   "execution_count": 47,
   "metadata": {},
   "outputs": [
    {
     "name": "stdout",
     "output_type": "stream",
     "text": [
      "Deep-Learning: 0.865\n",
      "XGBoost: 0.8638\n"
     ]
    }
   ],
   "source": [
    "print('Deep-Learning:', score)\n",
    "print('XGBoost:', predict)"
   ]
  },
  {
   "cell_type": "code",
   "execution_count": null,
   "metadata": {},
   "outputs": [],
   "source": []
  }
 ],
 "metadata": {
  "kernelspec": {
   "display_name": "Python 3",
   "language": "python",
   "name": "python3"
  },
  "language_info": {
   "codemirror_mode": {
    "name": "ipython",
    "version": 3
   },
   "file_extension": ".py",
   "mimetype": "text/x-python",
   "name": "python",
   "nbconvert_exporter": "python",
   "pygments_lexer": "ipython3",
   "version": "3.8.3"
  }
 },
 "nbformat": 4,
 "nbformat_minor": 2
}
